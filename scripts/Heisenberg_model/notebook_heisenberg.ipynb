{
 "cells": [
  {
   "cell_type": "code",
   "execution_count": 1,
   "metadata": {},
   "outputs": [],
   "source": [
    "import numpy as np\n",
    "import matplotlib.pyplot as plt \n",
    "import qiskit as qk\n",
    "#qk.IBMQ.load_account()\n",
    "\n",
    "from system import Model,Pairing,Heisenberg\n",
    "from algorithms import PhaseEstimation"
   ]
  },
  {
   "cell_type": "code",
   "execution_count": 2,
   "metadata": {},
   "outputs": [],
   "source": [
    "def binaryfrac(bitstr):\n",
    "    val = 0\n",
    "    for i,bit in enumerate(bitstr):\n",
    "        val += int(bit)*(2**(-i-1))\n",
    "    return val"
   ]
  },
  {
   "cell_type": "markdown",
   "metadata": {},
   "source": [
    "### Define variables and model class"
   ]
  },
  {
   "cell_type": "code",
   "execution_count": 3,
   "metadata": {},
   "outputs": [],
   "source": [
    "dt = 0.004\n",
    "steps = 120\n",
    "t = steps*dt\n",
    "\n",
    "h0 = 1\n",
    "delta = 1\n",
    "g = 1\n",
    "Emax = 2\n",
    "sim = 4\n",
    "work = 6\n",
    "ancilla = 1\n",
    "#model = Pairing(6,4,1,3,1,1)\n",
    "model = Heisenberg(8,2,0,5,1)"
   ]
  },
  {
   "cell_type": "markdown",
   "metadata": {},
   "source": [
    "## Do phase estimation"
   ]
  },
  {
   "cell_type": "code",
   "execution_count": 4,
   "metadata": {},
   "outputs": [],
   "source": [
    "#model = Model(work,sim,ancilla,Emax,*args)\n",
    "model = PhaseEstimation(model,t=t,dt=dt)"
   ]
  },
  {
   "cell_type": "code",
   "execution_count": 5,
   "metadata": {},
   "outputs": [],
   "source": [
    "# Measurement\n",
    "model = model.measurePhase(t)"
   ]
  },
  {
   "cell_type": "markdown",
   "metadata": {},
   "source": [
    "### Plot results"
   ]
  },
  {
   "cell_type": "code",
   "execution_count": 6,
   "metadata": {},
   "outputs": [
    {
     "data": {
      "image/png": "[encoded data removed]",
      "text/plain": [
       "<Figure size 432x288 with 1 Axes>"
      ]
     },
     "metadata": {
      "needs_background": "light"
     },
     "output_type": "display_data"
    }
   ],
   "source": [
    "x = model.plotX\n",
    "y = model.plotY\n",
    "plt.plot(x,y)\n",
    "plt.show()"
   ]
  },
  {
   "cell_type": "code",
   "execution_count": 7,
   "metadata": {},
   "outputs": [
    {
     "name": "stdout",
     "output_type": "stream",
     "text": [
      "Measurement: 12 (218)\n",
      "  - Eigenstate: 10 => Ek = -0.011003907093094512\n",
      "\n",
      "\n",
      "Measurement: 13 (16)\n",
      "  - Eigenstate: 11 => Ek = 0.040128785836427205\n",
      "\n",
      "\n",
      "Measurement: 28 (25)\n",
      "  - Eigenstate: 10 => Ek = 1.9320384242287179\n",
      "\n",
      "\n",
      "Measurement: 29 (353)\n",
      "  - Eigenstate: 10 => Ek = 1.9831711171582391\n",
      "\n",
      "\n",
      "Measurement: 30 (92)\n",
      "  - Eigenstate: 01 => Ek = 2.0343038100877604\n",
      "\n",
      "\n",
      "Measurement: 31 (13)\n",
      "  - Eigenstate: 10 => Ek = 2.0854365030172817\n",
      "\n",
      "\n",
      "Measurement: 47 (15)\n",
      "  - Eigenstate: 01 => Ek = 3.926213448480051\n",
      "\n",
      "\n",
      "Measurement: 48 (123)\n",
      "  - Eigenstate: 01 => Ek = 3.9773461414095728\n",
      "\n",
      "\n",
      "Measurement: 49 (75)\n",
      "  - Eigenstate: 01 => Ek = 4.028478834339094\n",
      "\n",
      "\n"
     ]
    },
    {
     "data": {
      "text/plain": [
       "[<matplotlib.lines.Line2D at 0x7fa5bed41198>]"
      ]
     },
     "execution_count": 7,
     "metadata": {},
     "output_type": "execute_result"
    },
    {
     "data": {
      "image/png": "[encoded data removed]",
      "text/plain": [
       "<Figure size 432x288 with 1 Axes>"
      ]
     },
     "metadata": {
      "needs_background": "light"
     },
     "output_type": "display_data"
    }
   ],
   "source": [
    "result = model.result\n",
    "a = model.a\n",
    "s = model.s\n",
    "w = model.w\n",
    "N = model.N\n",
    "Emax = model.Emax\n",
    "x = [] # phase\n",
    "y = [] # hits\n",
    "V = []\n",
    "for key,val in result.items():\n",
    "    eigenstate = key[a:s+a]\n",
    "    eigenstate = eigenstate[::-1]\n",
    "    phi = key[N-w:]\n",
    "    x.append(Emax - 2*np.pi*binaryfrac(phi)/t)\n",
    "    y.append(val)\n",
    "    V.append(eigenstate)\n",
    "x = np.array(x)\n",
    "y = np.array(y)\n",
    "V = np.array(V)\n",
    "idx = np.argsort(x)\n",
    "x = x[idx]\n",
    "y = y[idx]\n",
    "V = V[idx]\n",
    "## Check if same phase measured for different eigenstates\n",
    "x_ = []\n",
    "y_ = []\n",
    "for i,xi in enumerate(x):\n",
    "    if i > 0:\n",
    "        if xi == x_[-1]:\n",
    "            y_[-1] += y[i]\n",
    "            #print(V[-1],V[i])\n",
    "        else:\n",
    "            x_.append(xi)\n",
    "            y_.append(y[i])\n",
    "\n",
    "    else:\n",
    "        x_.append(xi)\n",
    "        y_.append(y[i])\n",
    "        \n",
    "        \n",
    "for i,xi in enumerate(x_):\n",
    "    if y_[i] > 10:\n",
    "        print('Measurement: {} ({})'.format(i,y_[i]))\n",
    "        print('  - Eigenstate: {} => Ek = {}'.format(V[i],xi))\n",
    "        print('\\n')\n",
    "        \n",
    "plt.plot(x_,y_)"
   ]
  },
  {
   "cell_type": "code",
   "execution_count": 8,
   "metadata": {},
   "outputs": [],
   "source": [
    "def VariationalQuantumEigensolver(model,max_it=100,optimizer='powell'):\n",
    "    qc = model.qc\n",
    "    qb = model.qb\n",
    "    \n",
    "    for i in range(max_it):\n",
    "        model.ansatz('vqe')\n",
    "        model.Hamiltonian()\n",
    "    \n",
    "    "
   ]
  },
  {
   "cell_type": "code",
   "execution_count": null,
   "metadata": {},
   "outputs": [],
   "source": []
  },
  {
   "cell_type": "code",
   "execution_count": 9,
   "metadata": {},
   "outputs": [
    {
     "name": "stdout",
     "output_type": "stream",
     "text": [
      "pe\n",
      "pe\n",
      "pe\n",
      "pe\n"
     ]
    }
   ],
   "source": [
    "print('PE'.lower())\n",
    "print('Pe'.lower())\n",
    "print('pE'.lower())\n",
    "print('pe'.lower())"
   ]
  },
  {
   "cell_type": "code",
   "execution_count": null,
   "metadata": {},
   "outputs": [],
   "source": []
  },
  {
   "cell_type": "code",
   "execution_count": null,
   "metadata": {},
   "outputs": [],
   "source": []
  }
 ],
 "metadata": {
  "kernelspec": {
   "display_name": "Python 3",
   "language": "python",
   "name": "python3"
  },
  "language_info": {
   "codemirror_mode": {
    "name": "ipython",
    "version": 3
   },
   "file_extension": ".py",
   "mimetype": "text/x-python",
   "name": "python",
   "nbconvert_exporter": "python",
   "pygments_lexer": "ipython3",
   "version": "3.6.8"
  }
 },
 "nbformat": 4,
 "nbformat_minor": 2
}
