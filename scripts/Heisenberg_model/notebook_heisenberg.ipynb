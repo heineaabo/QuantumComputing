{
 "cells": [
  {
   "cell_type": "code",
   "execution_count": 1,
   "metadata": {},
   "outputs": [
    {
     "data": {
      "text/plain": [
       "<AccountProvider for IBMQ(hub='ibm-q', group='open', project='main')>"
      ]
     },
     "execution_count": 1,
     "metadata": {},
     "output_type": "execute_result"
    }
   ],
   "source": [
    "import numpy as np\n",
    "import matplotlib.pyplot as plt \n",
    "import qiskit as qk\n",
    "qk.IBMQ.load_account()"
   ]
  },
  {
   "cell_type": "code",
   "execution_count": 2,
   "metadata": {},
   "outputs": [],
   "source": [
    "from system import Model,Pairing"
   ]
  },
  {
   "cell_type": "code",
   "execution_count": 3,
   "metadata": {},
   "outputs": [],
   "source": [
    "def simple(Qcirc,w,ctrl,dt):\n",
    "    qc = Qcirc[0]\n",
    "    qb = Qcirc[1]\n",
    "    cb = Qcirc[2]\n",
    "    \n",
    "    qc.cx(qb[w],qb[-1])\n",
    "    qc.cx(qb[w],qb[-1])\n",
    "    qc.crz(2*dt,qb[ctrl],qb[w+1])\n",
    "    \n",
    "    qc.u1(2*dt,qb[ctrl])\n",
    "\n",
    "    return [qc,qb,cb]"
   ]
  },
  {
   "cell_type": "code",
   "execution_count": 4,
   "metadata": {},
   "outputs": [],
   "source": [
    "class Heisenberg(Model):\n",
    "    def __init__(self,*args):\n",
    "        super().__init__(*args)\n",
    "        self.h0 = self.args[0]\n",
    "        self.ansatz()\n",
    "    \n",
    "    def __call__(self,ctrl,dt):\n",
    "        qc = self.qc\n",
    "        qb = self.qb\n",
    "        w = self.w\n",
    "        h0 = self.h0\n",
    "        \n",
    "        ### ONEBODY ###\n",
    "        #qc.crz(h0*dt,qb[ctrl],qb[w+0])\n",
    "        #qc.crz(h0*dt,qb[ctrl],qb[w+1])\n",
    "\n",
    "        ### TWOBODY ###\n",
    "        ##### X #####\n",
    "        qc.cx(qb[w+1],qb[w+0])\n",
    "        qc.h(qb[w+1])\n",
    "        qc.crz(2*dt,qb[ctrl],qb[w+1])\n",
    "        qc.h(qb[w+1])\n",
    "        qc.cx(qb[w+1],qb[w+0])\n",
    "        ##### Y #####\n",
    "        qc.rz(np.pi/2,qb[w+0])\n",
    "        qc.rz(np.pi/2,qb[w+1])\n",
    "        qc.cx(qb[w+1],qb[w+0])\n",
    "        qc.h(qb[w+1])\n",
    "        qc.crz(2*dt,qb[ctrl],qb[w+1])\n",
    "        qc.h(qb[w+1])\n",
    "        qc.cx(qb[w+1],qb[w+0])\n",
    "        qc.rz(-np.pi/2,qb[w+0])\n",
    "        qc.rz(-np.pi/2,qb[w+1])\n",
    "        ##### Z #####\n",
    "        qc.cx(qb[w+1],qb[w+0])\n",
    "        qc.crz(2*dt,qb[ctrl],qb[w+0])\n",
    "        qc.cx(qb[w+1],qb[w+0])\n",
    "        \n",
    "        qc.u1(Emax*dt,qb[ctrl])\n",
    "\n",
    "        self.qc = qc\n",
    "        self.qb = qb\n",
    "        \n",
    "        return self\n",
    "    \n",
    "    def ansatz(self):\n",
    "        for i in range(self.s):\n",
    "            self.qc.h(self.qb[self.w+i])\n",
    "        return None"
   ]
  },
  {
   "cell_type": "code",
   "execution_count": 8,
   "metadata": {},
   "outputs": [],
   "source": [
    "def InvFourierTransform(model):\n",
    "    qc = model.qc\n",
    "    qb = model.qb\n",
    "    w = model.w\n",
    "    \n",
    "    for i in range(int(w/2)):\n",
    "        qc.swap(qb[i],qb[w-i-1])   \n",
    "    for i in range(w):\n",
    "        for j in range(i):\n",
    "            qc.cu1(-2*np.pi/2**(i-j+1),qb[j],qb[i])\n",
    "        qc.h(qb[i])\n",
    "\n",
    "    model.qc = qc\n",
    "    model.qb = qb\n",
    "    return model"
   ]
  },
  {
   "cell_type": "code",
   "execution_count": 9,
   "metadata": {},
   "outputs": [],
   "source": [
    "def PhaseEstimation(model,t=0.5,dt=0.005):\n",
    "\n",
    "    s = model.s\n",
    "    w = model.w\n",
    "    \n",
    "    # Initialize / Create superposition\n",
    "    for i in range(w):\n",
    "        model.qc.h(model.qb[i])\n",
    "    \n",
    "    # model ansatz in model.__init__\n",
    "        \n",
    "    # Apply controlled-U operations\n",
    "    for i in range(model.w):\n",
    "        for n in range(int(t/dt)):\n",
    "            model = model(w-1-i,(2**i)*dt)\n",
    "    \n",
    "    # Inverse Quantum Fourier Transform\n",
    "    model = InvFourierTransform(model)\n",
    "        \n",
    "    # Measurement\n",
    "    model = model.measure(t)\n",
    "    \n",
    "    return model"
   ]
  },
  {
   "cell_type": "code",
   "execution_count": 10,
   "metadata": {},
   "outputs": [],
   "source": [
    "dt = 0.005\n",
    "steps = 100\n",
    "t = steps*dt\n",
    "\n",
    "h0 = 1\n",
    "delta = 1\n",
    "g = 1\n",
    "Emax = 2\n",
    "sim = 4\n",
    "work = 6\n",
    "ancilla = 1\n",
    "#model = Pairing(work,sim,ancilla,Emax,delta,g)\n",
    "model = Pairing(6,4,1,2,1,1)\n",
    "#model = Heisenberg(8,2,0,4,1)\n",
    "\n",
    "model = PhaseEstimation(model,t=t,dt=dt)"
   ]
  },
  {
   "cell_type": "code",
   "execution_count": 11,
   "metadata": {},
   "outputs": [
    {
     "data": {
      "image/png": "[encoded data removed]",
      "text/plain": [
       "<Figure size 432x288 with 1 Axes>"
      ]
     },
     "metadata": {
      "needs_background": "light"
     },
     "output_type": "display_data"
    }
   ],
   "source": [
    "x = model.plotX\n",
    "y = model.plotY\n",
    "plt.plot(x,y)\n",
    "plt.show()"
   ]
  },
  {
   "cell_type": "code",
   "execution_count": 12,
   "metadata": {},
   "outputs": [
    {
     "data": {
      "image/png": "[encoded data removed]",
      "text/plain": [
       "<Figure size 432x288 with 1 Axes>"
      ]
     },
     "metadata": {
      "needs_background": "light"
     },
     "output_type": "display_data"
    }
   ],
   "source": [
    "res = model.result\n",
    "measurements = []\n",
    "for key,value in res.items():\n",
    "    key_ = key[sim:]\n",
    "    eigenstate = key[1:(sim)]\n",
    "    eigenstate = eigenstate[::-1]\n",
    "    decimal = 0\n",
    "    for i,bit in enumerate(key_):\n",
    "        decimal += int(bit)*2**(-i-1)\n",
    "    if value != 0:\n",
    "        measurements.append(np.array([eigenstate, model.Emax-decimal*2*np.pi/t, value]))\n",
    "\n",
    "measurements = np.array(measurements)\n",
    "x = measurements[:,1]\n",
    "y = measurements[:,2]\n",
    "idx = np.argsort(x)\n",
    "x = x[idx]\n",
    "y = y[idx]\n",
    "eigdict = {}\n",
    "for xi in x:\n",
    "    eigdict[xi] = 0\n",
    "for xi, yi in zip(x,y):\n",
    "    eigdict[xi] += int(yi)\n",
    "\n",
    "x = np.array(list(eigdict.keys())).astype(np.float)\n",
    "idx = np.argsort(x)\n",
    "y = np.array(list(eigdict.values())).astype(np.int)\n",
    "x = x[idx]\n",
    "y = y[idx]\n",
    "plt.plot(x,y)\n",
    "plt.show()"
   ]
  },
  {
   "cell_type": "code",
   "execution_count": null,
   "metadata": {},
   "outputs": [],
   "source": [
    "print(model.N-model.w)"
   ]
  },
  {
   "cell_type": "code",
   "execution_count": null,
   "metadata": {},
   "outputs": [],
   "source": [
    "print(model.result)"
   ]
  },
  {
   "cell_type": "code",
   "execution_count": null,
   "metadata": {},
   "outputs": [],
   "source": [
    "bit = '011111000'\n",
    "print(len(bit[2:]))"
   ]
  },
  {
   "cell_type": "code",
   "execution_count": null,
   "metadata": {},
   "outputs": [],
   "source": []
  },
  {
   "cell_type": "code",
   "execution_count": null,
   "metadata": {},
   "outputs": [],
   "source": []
  },
  {
   "cell_type": "code",
   "execution_count": null,
   "metadata": {},
   "outputs": [],
   "source": []
  },
  {
   "cell_type": "code",
   "execution_count": null,
   "metadata": {},
   "outputs": [],
   "source": []
  },
  {
   "cell_type": "code",
   "execution_count": null,
   "metadata": {},
   "outputs": [],
   "source": []
  },
  {
   "cell_type": "code",
   "execution_count": null,
   "metadata": {},
   "outputs": [],
   "source": []
  },
  {
   "cell_type": "code",
   "execution_count": null,
   "metadata": {},
   "outputs": [],
   "source": []
  }
 ],
 "metadata": {
  "kernelspec": {
   "display_name": "Python 3",
   "language": "python",
   "name": "python3"
  },
  "language_info": {
   "codemirror_mode": {
    "name": "ipython",
    "version": 3
   },
   "file_extension": ".py",
   "mimetype": "text/x-python",
   "name": "python",
   "nbconvert_exporter": "python",
   "pygments_lexer": "ipython3",
   "version": "3.7.1"
  }
 },
 "nbformat": 4,
 "nbformat_minor": 2
}
