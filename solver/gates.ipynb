{
 "cells": [
  {
   "cell_type": "code",
   "execution_count": 1,
   "metadata": {},
   "outputs": [],
   "source": [
    "%load_ext autoreload\n",
    "%autoreload 2"
   ]
  },
  {
   "cell_type": "code",
   "execution_count": 2,
   "metadata": {},
   "outputs": [],
   "source": [
    "import numpy as np\n",
    "from qiskit import *\n",
    "from qiskit.extensions.standard import *"
   ]
  },
  {
   "cell_type": "code",
   "execution_count": 9,
   "metadata": {},
   "outputs": [],
   "source": [
    "H = 'exp(+x@x +y@y +z@z) + z@i + i@z'"
   ]
  },
  {
   "cell_type": "code",
   "execution_count": 14,
   "metadata": {},
   "outputs": [],
   "source": [
    "def check_exponent(S):\n",
    "    if S[:3] == 'exp':\n",
    "        par_start = S.find('(')+1\n",
    "        par_end = S.find(')')\n",
    "        return S[par_start:par_end]\n",
    "    else:\n",
    "        return False\n",
    "\n",
    "def get_circuit(S):\n",
    "    S = S.split(' ')\n",
    "    new = []\n",
    "    for s in S:\n",
    "        sign = s[0]\n",
    "        s = s[1:].split('@')\n",
    "        new.append([sign,s])\n",
    "    return new\n",
    "\n",
    "\n",
    "    \n",
    "inner = check_exponent(H)\n",
    "circuit = get_circuit(inner)"
   ]
  },
  {
   "cell_type": "code",
   "execution_count": 15,
   "metadata": {},
   "outputs": [
    {
     "name": "stdout",
     "output_type": "stream",
     "text": [
      "         ┌───┐┌───┐┌───┐\n",
      "q0_0: |0>┤ X ├┤ Y ├┤ Z ├\n",
      "         ├───┤├───┤├───┤\n",
      "q0_1: |0>┤ X ├┤ Y ├┤ Z ├\n",
      "         └───┘└───┘└───┘\n"
     ]
    }
   ],
   "source": [
    "qb = QuantumRegister(2)\n",
    "qc = QuantumCircuit(qb)\n",
    "\n",
    "def addGate(circuit,action,qubit,trg=None,phi=None):\n",
    "    ### SINGLE QUBIT GATES\n",
    "    if action.lower() == 'x':\n",
    "        return circuit.append(XGate(),[qubit],[])\n",
    "    if action.lower() == 'y':\n",
    "        return circuit.append(YGate(),[qubit],[])\n",
    "    if action.lower() == 'z':\n",
    "        return circuit.append(ZGate(),[qubit],[])\n",
    "    if action.lower() == 'h':\n",
    "        return circuit.append(HGate(),[qubit],[])\n",
    "    # Phase gate\n",
    "    if action.lower() == 't':\n",
    "        return circuit.append(TdgGate(),[qubit],[])\n",
    "    if action.lower() == 's':\n",
    "        return circuit.append(SdgGate(),[qubit],[])\n",
    "    # Rotation gates\n",
    "    if action.lower() == 'rx':\n",
    "        return circuit.append(RXGate(phi),[qubit],[])\n",
    "    if action.lower() == 'ry':\n",
    "        return circuit.append(RYGate(phi),[qubit],[])\n",
    "    if action.lower() == 'rz':\n",
    "        return circuit.append(RZGate(phi),[qubit],[])\n",
    "    ### MULTI QUBIT GATES\n",
    "    # Controlled\n",
    "    if action.lower() == 'cx':\n",
    "        return circuit.append(CnotGate(),[qubit,trg],[])\n",
    "    if action.lower() == 'cy':\n",
    "        return circuit.append(CyGate(),[qubit,trg],[])\n",
    "    if action.lower() == 'cz':\n",
    "        return circuit.append(CzGate(),[qubit,trg],[])\n",
    "    if action.lower() == 'ch':\n",
    "        return circuit.append(ChGate(),[qubit,trg],[])\n",
    "    # Controlled rotation\n",
    "    if action.lower() == 'cry':\n",
    "        return circuit.append(CryGate(phi),[qubit,trg],[])\n",
    "    if action.lower() == 'crz':\n",
    "        return circuit.append(CrzGate(phi),[qubit,trg],[])\n",
    "    # Swap\n",
    "    if action.lower() == 'swap':\n",
    "        return circuit.append(SwapGate(),[qubit,trg],[])\n",
    "    \n",
    "def circ2gate(circuit,qc,qb):\n",
    "    for elem in circuit:\n",
    "        sign = elem[0]\n",
    "        gates = elem[1]\n",
    "        for i,gate in enumerate(gates):\n",
    "            addGate(qc,gate,i)\n",
    "    print(qc)\n",
    "    \n",
    "#print(qc)\n",
    "#addGate(qc,'cx',0,1)\n",
    "#addGate(qc,'cx',1,2)\n",
    "#addGate(qc,'z',2)\n",
    "#addGate(qc,'t',0)\n",
    "#print(qc)\n",
    "circ2gate(circuit,qc,qb)\n"
   ]
  },
  {
   "cell_type": "code",
   "execution_count": 23,
   "metadata": {},
   "outputs": [
    {
     "name": "stdout",
     "output_type": "stream",
     "text": [
      "         ┌───┐┌───┐\n",
      "q7_0: |0>┤ H ├┤ X ├\n",
      "         ├───┤├───┤\n",
      "q7_1: |0>┤ H ├┤ Y ├\n",
      "         ├───┤├───┤\n",
      "q7_2: |0>┤ H ├┤ Z ├\n",
      "         └───┘└───┘\n"
     ]
    }
   ],
   "source": [
    "addGate(qc,'x',0)\n",
    "addGate(qc,'y',1)\n",
    "addGate(qc,'z',2)\n",
    "print(qc)"
   ]
  },
  {
   "cell_type": "code",
   "execution_count": null,
   "metadata": {},
   "outputs": [],
   "source": []
  }
 ],
 "metadata": {
  "kernelspec": {
   "display_name": "Python 3",
   "language": "python",
   "name": "python3"
  },
  "language_info": {
   "codemirror_mode": {
    "name": "ipython",
    "version": 3
   },
   "file_extension": ".py",
   "mimetype": "text/x-python",
   "name": "python",
   "nbconvert_exporter": "python",
   "pygments_lexer": "ipython3",
   "version": "3.6.8"
  }
 },
 "nbformat": 4,
 "nbformat_minor": 2
}
